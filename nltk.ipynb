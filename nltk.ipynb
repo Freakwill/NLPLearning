{
 "cells": [
  {
   "cell_type": "markdown",
   "metadata": {},
   "source": [
    "# Learning NLP with nltk\n",
    "\n",
    "## Statistics\n",
    "\n",
    "bigrams/trigrams\n",
    "\n",
    "FreqDist/ConditionalFreqDist"
   ]
  },
  {
   "cell_type": "code",
   "execution_count": 1,
   "metadata": {},
   "outputs": [],
   "source": [
    "import nltk"
   ]
  },
  {
   "cell_type": "code",
   "execution_count": 1,
   "metadata": {},
   "outputs": [
    {
     "name": "stdout",
     "output_type": "stream",
     "text": [
      "['in', 'one', 'dimension,', 'for', '$1', '<']\n",
      "['in', '$L^p$~norm', 'to', '$f$;', 'however,', 'the']\n",
      "['in', 'applications', 'almost', 'always', 'rely', 'on']\n",
      "['in', '$P_J', 'f$', 'converges', 'absolutely', 'since']\n",
      "['in', 'the', 'next', 'section', '(though', 'for']\n",
      "['in', '[3].', 'The', 'non-linear', 'hard', 'and']\n",
      "['in', 'applications', '(see', '[1],[2])', 'but', 'this']\n",
      "['in', 'an', 'arbitrary', 'order,', 'and', '(with']\n",
      "['in', 'this', 'paper', 'originated', 'from', 'a']\n",
      "['in', 'magnitude', 'by', 'the', 'maximal', 'function.']\n",
      "['in', '[5].', 'Let', '$f$', 'be', 'an']\n",
      "['in', '$L^p(\\\\R)$.', 'We', 'first', 'show', 'that']\n",
      "['in', 'an', '$L^p$', 'class', 'for', 'some']\n",
      "['in', '$C^\\\\infty_0(\\\\R)$', 'for', 'which', '$|M(f-g)(x)|', '\\\\leq']\n",
      "['in', 'the', 'expansion', 'of', '$h$,', 'and']\n",
      "['in', '[3]', 'under', 'weaker', 'decay', 'hypotheses']\n",
      "['in', 'a', 'distributional', 'sense', 'to', '$\\\\delta(x-y)$.']\n",
      "['in', 'an', '$L^p$', 'class', 'for', 'some']\n",
      "['in', 'the', 'summation', 'for', '$T_\\\\lambda', 'f(x)$']\n",
      "['in', 'the', 'above', 'argument;', 'we', 'omit']\n",
      "['in', '[3].', '{\\\\heading', '2.', 'Proof', 'of']\n",
      "['in', 'the', 'proof', 'of', 'Theorem', '1,']\n",
      "['in', 'the', 'previous', 'section', 'to', 'bound']\n",
      "['in', '[3].', 'Now', 'suppose', 'that', '$\\\\alpha']\n",
      "['in', '$L^p([0,1))$', 'for', 'every', '$1', '<']\n",
      "['in', '(b).', 'We', 'shall', 'define', '$f_N$']\n",
      "['in', 'the', 'sum', 'defining', '$f_N(x)$', 'are']\n"
     ]
    }
   ],
   "source": [
    "\n",
    "def twoword(s):\n",
    "    # delete the nonwords\n",
    "    # get bigrams, combine them with ' '\n",
    "    return (a+' '+b for a, b in nltk.bigrams(w for w in s.split() if w.isalpha()))\n",
    "\n",
    "def fromFile(file, hook=twoword):\n",
    "    with open(file) as fo:\n",
    "        return nltk.FreqDist(hook(fo.read()))\n",
    "\n",
    "corpus_root = '/Users/william/Folders/mycorpus/'\n",
    "\n",
    "def follow(s, w, n=1):\n",
    "    # print w and words following it in s\n",
    "    # example: ['in', 'one', 'dimension,', 'for', '$1', '<']\n",
    "    k = 0\n",
    "    while k < len(s):\n",
    "        a = s[k]\n",
    "        if a == w:\n",
    "            print(s[k:k+n+1])\n",
    "            k += n\n",
    "        else:\n",
    "            k += 1\n",
    "            \n",
    "f = corpus_root + 'wavelets.tex'\n",
    "with open(f) as fo:\n",
    "    s = fo.read()\n",
    "s = s.split()\n",
    "follow(s, 'in', 5)"
   ]
  },
  {
   "cell_type": "markdown",
   "metadata": {},
   "source": [
    "## Read texts from pdf"
   ]
  },
  {
   "cell_type": "code",
   "execution_count": 3,
   "metadata": {},
   "outputs": [
    {
     "name": "stdout",
     "output_type": "stream",
     "text": [
      "['in', '2003,', 'Grisha', 'Perelman', 'signiﬁcantly', 'advanced']\n",
      "['in', 'a', 'program', 'to', 'understand', 'the']\n",
      "['in', '[29]', 'Perelman', 'showed', 'that', 'in']\n",
      "['in', 'three', 'spatial', 'dimensions', 'there', 'was']\n",
      "['in', 'ﬁnite', 'time', '(thus', 'there', 'exists']\n",
      "['in', 'particular', 'includes', 'the', 'projective', 'space']\n",
      "['in', '[28],', '[29],', '[30]', 'for', 'general']\n",
      "['in', 'fact', 'quite', 'natural,', 'because', 'the']\n",
      "['in', 'the', 'category', 'of', 'simply', 'connected']\n",
      "['in', 'communication', 'with', 'each', 'other', 'and']\n",
      "['in', 'every', 'important', 'detail.', 'In', 'particular']\n",
      "['in', 'fact', 'will', 'commit', 'a', 'number']\n",
      "['in', 'order', 'to', 'suppress', 'certain', 'technical']\n",
      "['in', 'the', 'proof', 'of', 'the', 'true']\n",
      "['in', 'an', 'ahistorical', 'order,', 'in', 'order']\n",
      "['in', 'several', 'other', 'places', '(see', 'e.g.']\n",
      "['in', 'the', 'ﬁeld', 'have', 'also', 'made']\n",
      "['in', '[5],', '[22],', '[27]', 'to', 'fully']\n",
      "['in', '[5],', '[22],', '[27]', 'for', 'a']\n",
      "['in', 'other', 'papers', 'when', 'appropriate.', '10In']\n",
      "['in', 'Section', '4.', 'With', 'the', 'local']\n",
      "['in', 'hand,', 'Theorem', '1.2', 'then', 'reduces']\n",
      "['in', 'special', 'cases', 'by', 'Hamilton', '[20]']\n",
      "['in', 'general.', 'One', 'ma', 'jor', 'obstacle']\n",
      "['in', 'nature,', 'which', 'meant', 'that', 'they']\n",
      "['in', 'Perelman’s', 'work', 'is', 'to', 'introduce']\n",
      "['in', 'turn', 'on', 'the', 'Cheeger-Gromov', 'theory']\n",
      "['in', 'ﬁnite', 'time', 'with', 'no', 'intervening']\n",
      "['in', 'the', 'hy-', 'potheses', 'and', 'conclusions,']\n",
      "['in', 'detail', 'in', '[27,', '§18].', 'While']\n",
      "['in', 'nature', 'than', 'those', 'in', '[28],']\n",
      "['in', 'which', 'one', 'returns', 'back', 'from']\n",
      "['in', 'the', 'references,', 'but', 'the', 'author']\n",
      "['in', '[22],', '[27],', '[5],', 'in', 'addition']\n",
      "['in', 'parallel', '(in', 'particular,', 'switching', 'from']\n",
      "['in', 'order', 'to', 'slightly', 'simplify', 'the']\n",
      "['in', 'coordinates', 'via', 'the', 'Christoﬀel', 'symbol']\n",
      "['in', 'turn', 'leads', 'to', 'the', 'Riemann']\n",
      "['in', 'turn', 'contracts', 'to', 'form', 'the']\n",
      "['in', 'mind', 'the', 'schematic', 'form', 'of']\n",
      "['in', 'the', 'formula', 'for', 'the', 'conformal']\n",
      "['in', 'every', 'expression.', 'Ricci', 'ﬂow', 'will']\n",
      "['in', 'Perelman’s', 'work17.', 'The', 'Ricci', 'ﬂow,']\n",
      "['in', 'some', 'time', 'interval.', 'It', 'is']\n",
      "['in', 'order', 'for', 'Ricci', 'ﬂow', 'to']\n",
      "['in', 'the', 'forward', 'time', 'direction.', 'Intuitively,']\n",
      "['in', 'which', 'the', 'thre', 'PERELMAN’S', 'PROOF']\n",
      "['in', 'the', 'presence', 'of', 'a', 'critical']\n",
      "['in', 'the', 'pres-', 'ence18', 'of', 'a']\n",
      "['in', 'coordinates', 'by', 't', 'gαβ', '(t,']\n",
      "['in', 'the', 'form', '(1)', '(2)', ')']\n",
      "['in', 'the', 'case', 'of', 'indeﬁnite', 'curvature.']\n",
      "['in', 'that', 'bounds', 'on', 'such', 'quantities']\n",
      "['in', 'these', 'notes', 'in', 'terms', 'of']\n",
      "['in', 'this', 'paper,', 'as', 'powers', 'of']\n",
      "['in', 'coordinates', 'we', 'obtain', '−2Ricαβ', '=']\n",
      "['in', 'the', 'equation.', 'The', 'second', 'approach,']\n",
      "['in', 'other', 'words', '∂t', 'g', '=']\n",
      "['in', 'the', 'local', 'theory,', 'is', 'not']\n",
      "['in', 'the', 'global', 'theory;', 'it', 'is']\n",
      "['in', 'its', 'original', 'form', 'seems', 'well']\n",
      "['in', 'time', 'for', 'all', 'time', 't']\n",
      "['in', 'the', 'analysis', 'of', 'blowup', 'singularities,']\n",
      "['in', 'other', 'equations', '(particularly', 'equations', 'with']\n",
      "['in', 'time', 'up', 'to', 'diﬀeomorphism.', 'More']\n",
      "['in', 'the', 'orthonormal', 'frame', 'coordinates24.', 'These']\n",
      "['in', 'ﬁnite', 'time,', 'the', 'metric', 'also']\n",
      "['in', 'the', 'positive', 'Ricci', 'curvature', 'case.']\n",
      "['in', 'magnitude,', 'the', 'negative', 'portion', 'of']\n",
      "['in', 'fact', 'controls', 'in', 'magnitude', 'all']\n",
      "['in', '[21].', 'Roughly', 'speaking,', 'it', 'is']\n",
      "['in', '(9),', 'the', 'set', 'of', 'points']\n",
      "['in', 'this', 'setting.', 'PERELMAN’S', 'PROOF', 'OF']\n",
      "['in', 'high', 'curvature', 'regions,', 'almost', 'all']\n",
      "['in', 'the', 'classiﬁcation', 'of', 'various', 'types']\n",
      "['in', 'the', 'argument;', 'see', '[27,', '§4.4],']\n",
      "['in', 'time,', 'with', 'the', 'rate', 'determined']\n",
      "['in', 'order', 'to', 'show', 'that', 'the']\n",
      "['in', 'the', 'next', 'section.', 'Furthermore,', 'there']\n",
      "['in', 'performing', 'such', 'extensions,', 'but', 'see']\n",
      "['in', 'the', 'manifold,', 'but', 'from', 'embedded']\n",
      "['in', 'the', 'non-negatively', 'curved', 'case,', 'namely']\n",
      "['in', 'geometry;', 'to', 'pick', 'just', 'one']\n",
      "['in', 'Gromov’s', 'ground-breaking', 'paper', '[15]', 'on']\n",
      "['in', 'a', 'suitably', 'weak', 'sense)', 'whenever']\n",
      "['in', 'ﬁnite', 'time,', 'which', 'is', 'absurd.']\n",
      "['in', 'ﬁnite', 'time', 'whenever', 'π2', '(M']\n",
      "['in', 'the', 'simply', 'connected', 'case.', 'If']\n",
      "['in', 'the', 'literature.', 'There', 'is', 'an']\n",
      "['in', 'M', 'as', 'loops', 'of', 'two-spheres,']\n",
      "['in', 'this', 'way', 'along', 'a', 'two-sphere']\n",
      "['in', 'the', 'simply', 'connected', 'case).', 'PERELMAN’S']\n",
      "['in', 'a', 'controllable', 'manner.', 'These', '(highly']\n",
      "['in', 'the', 'sub', 'ject', 'was', 'to']\n",
      "['in', '[28,', '§3,7]', 'several', 'useful', 'critical']\n",
      "['in', 'spacetime', 'of', 'a', 'solution', 'M']\n",
      "['in', 'd', 'spatial', 'dimensions,', 'thus', 'x0']\n",
      "['in', 'time;', 'this', 'is', 'basically', 'measuring']\n",
      "['in', 'a', 'diﬀerent', 'context', 'than', 'Ricci']\n",
      "['in', 'spirit', 'to', 'the', 'Ricci', 'curvature']\n",
      "['in', 'other', 'geometric', 'formulae', 'such', 'as']\n",
      "['in', 'the', 'conformal', 'Laplacian.', 'See', '[28,']\n",
      "['in', 'time,', 'use', 'variation', 'formulae', 'to']\n",
      "['in', 'the', 'absence', 'of', 'geometric', 'intuition.']\n",
      "['in', 'fact', 'constant', 'in', 'the', 'case']\n",
      "['in', 'terms', 'of', 'inﬁnite', 'dimensional', 'Rie-']\n",
      "['in', '[11].', 'Comparing', 'the', 'reduced', 'volume']\n",
      "['in', 'the', 'case', 'where', 'the', 'ball']\n",
      "['in', 'the', 'sense', 'that', '|Riem|g', '=']\n",
      "['in', 'turn', 'leads', 'to', 'an', 'estimate']\n",
      "['in', '(5)', '(if', 'we', 'normalise', 't0']\n",
      "['in', 'the', 'argument.', 'Details', 'can', 'be']\n",
      "['in', '[28,', '§7],', '[27,', '§9.2],', '[22,']\n",
      "['in', 'the', 'monotonicity', 'formula', 'as', 'in']\n",
      "['in', 'the', 'previous', 'paragraph,', 'one', 'can']\n",
      "['in', 'fact', 'conclude', 'that', 'the', 'reduced']\n",
      "['in', 'several', 'stages.', 'The', 'ﬁrst', 'ma']\n",
      "['in', 'PERELMAN’S', 'PROOF', 'OF', 'POINCAR', '´E']\n",
      "['in', 'which', 'the', 'curvature', 'is', 'bounded']\n",
      "['in', 'the', 'non-collapsed', 'case,', 'a', 'famous']\n",
      "['in', 'constraining', 'the', 'behaviour', 'of', 'manifolds.']\n",
      "['in', 'Perelman’s', 'work,', 'and', 'also', 'in']\n",
      "['in', 'subsequent', 'papers.', 'In', 'particular,', 'in']\n",
      "['in', 'order', 'to', 'fully', 'complete', 'the']\n",
      "['in', 'a', 'scale-invariant', 'fashion.', '9.', 'Blowup']\n",
      "['in', 'principle)', 'to', 'analyse', 'the', 'asymptotic']\n",
      "['in', 'the', 'analysis', 'of', 'any', 'nonlinear']\n",
      "['in', 'particular', 'is', 'essential', 'for', 'deﬁning']\n",
      "['in', 'a', 'best-case', 'scenario.', 'Suppose', 'we']\n",
      "['in', 'fact', 'if', 'the', 'xn', 'are']\n",
      "['in', 'order', 'to', 'reduce', 'their', 'curvature']\n",
      "['in', 'topology', '(and', 'not', 'disrupting', 'the']\n",
      "['in', 'the', 'classiﬁcation', 'of', 'curvature', 'regions,']\n",
      "['in', 'that', 'the', 'ancient', 'solutions', 'themselves']\n",
      "['in', 'other', 'words,', 'one', 'needs', 'to']\n",
      "['in', 'turn', 'will', 'lead', 'to', 'a']\n",
      "['in', 'mind:', '•', '(The', 'sphere)', 'For']\n",
      "['in', 'earlier', 'sections,', 'while', 'the', 'latter']\n",
      "['in', 'two', 'spatial', 'dimensions,', 'the', 'cylinder']\n",
      "['in', 'this', 'case.', '(Also,', 'we', 'require']\n",
      "['in', 'two', 'spatial', 'dimensions', 'instead', 'of']\n",
      "['in', 'three', 'dimensions,', 'see', 'e.g.', '[2],']\n",
      "['in', 'Section', '14.', '•', '(A', 'non-example)']\n",
      "['in', 'fact', 'al', 'l', 'κ-solutions', 'essentially']\n",
      "['in', 'a', 'certain', 'quantitative', 'sense,', 'after']\n",
      "['in', 'several', 'stages;', 'we', 'now', 'consider']\n",
      "['in', 'turn.', '10.1.', 'Bounded', 'curvature.', 'We']\n",
      "['in', '[27,', '§9.3],', '[22,', '§45],', '[5,']\n",
      "['in', 'two', 'dimensions).', 'The', 'argument', 'runs']\n",
      "['in', 'fact', 'furthermore', 'that', 'the', 'manifold']\n",
      "['in', 'fact', 'have', 'constant', 'curvature,', 'so']\n",
      "['in', 'the', 'asymptotic', 'regime', 'x', '→']\n",
      "['in', 'which', 'supd(x,xk', ')∼rk', 'R(t,', 'x)']\n",
      "['in', 'particular,', 'as', 'κ-solutions', 'are', 'non-collapsed,']\n",
      "['in', 'fact', 'that', 'the', 'limit', 'is']\n",
      "['in', 'a', 'volume', 'sense;', 'using', 'Bishop-Gromov']\n",
      "['in', '[28],', '[22],', '[5]),', 'or', 'by']\n",
      "['in', '[27]).', '51This', 'is', 'consistent', 'with']\n",
      "['in', 'order', 'to', 'lower', 'bound', 'the']\n",
      "['in', 'Fatou’s', 'lemma', 'need', 'not', 'be']\n",
      "['in', 'a', 'distributional', 'sense;', 'see', '[5,']\n",
      "['in', 'the', 'proof.', 'If', 'the', 'soliton']\n",
      "['in', '(5),', 'one', 'can', 'show', 'that']\n",
      "['in', 'the', 'preceding', 'paragraph', 'then', 'let']\n",
      "['in', 'a', 'Ricci', 'ﬂow', 'lives', 'in']\n",
      "['in', 'a', 'rescaled', 'canonical', 'neighbourhood', 'if,']\n",
      "['in', 'the', 'center', 'of', 'a', 'region']\n",
      "['in', 'rescaled', 'time', 'for', 'a', '54The']\n",
      "['in', 'contrast,', 'are', 'a', 'gradient', 'steady']\n",
      "['in', 'a', 'compact', 'manifold', 'diﬀeomorphic', 'to']\n",
      "['in', 'a', 'open', 'manifold', 'which', 'is']\n",
      "['in', 'an', 'open', 'region', 'C', ',']\n",
      "['in', 'space', 'and', 'time).', 'Furthermore,', 'the']\n",
      "['in', 'a', 'κ-solution', 'lies', 'in', 'a']\n",
      "['in', 'one', 'direction,', 'then', 'application', 'of']\n",
      "['in', 'Section', '10.4', 'to', 'conclude', 'that']\n",
      "['in', 'a', 'non-compact', 'κ-', 'solution', 'either']\n",
      "['in', 'a', 'rescaled', 'ε-neck', 'or', 'is']\n",
      "['in', 'the', 'core', 'of', 'a', 'rescaled']\n",
      "['in', 'the', 'preceding', 'paragraph', 'shows', 'that']\n",
      "['in', 'M', 'is', 'contained', 'either', 'in']\n",
      "['in', 'the', 'rescaled', 'core', 'of', 'a']\n",
      "['in', 't).', 'So', 'we', 'may', 'assume']\n",
      "['in', '[28,', '§12]', 'had', 'some', 'inaccuracies,']\n",
      "['in', '[29,', '§6].', 'The', 'three', 'claims']\n",
      "['in', 'turn', 'lets59', 'us', 'use', 'Hamilton']\n",
      "['in', 'K', '(from', 'incredibly', 'huge', 'down']\n",
      "['in', 'rescaled', 'canonical', 'neighbourhoods,', 'and', 'want']\n",
      "['in', 'rescaled', 'neigh-', 'bourhoods', 'without', 'curvature']\n",
      "['in', 'rescaled', 'Ricci', 'ﬂows', 'where', 'the']\n",
      "['in', 'a', 'canonical', 'neighbourhood.', 'This', 'means']\n",
      "['in', 'each', 'Un', 'which', 'starts', 'at']\n",
      "['in', 'a', 'long', 'chain', 'of', 'rescaled']\n",
      "['in', 'contrast', 'to', 'an', 'ε-tube;', 'this']\n",
      "['in', 'the', 'next', 'section).', 'But', 'the']\n",
      "['in', 'space,', 'but', 'has', 'bounded', 'curvature']\n",
      "['in', 'Section', '10.4', 'to', 'deduce', '(iii)']\n",
      "['in', 'that', 'one', 'needs', 'to', 'extend']\n",
      "['in', 'time', 'somewhat', 'in', 'order', 'to']\n",
      "['in', 'Perelman’s', 'work,', 'but', 'see', '[22,']\n",
      "['in', 'Sections', '10.2,', '10.4).', 'At', 'this']\n",
      "['in', 'which', 'one', 'uses', 'parabolic', 'theory']\n",
      "['in', 'particular', 'the', 'scalar', 'curvature', 'stays']\n",
      "['in', '[28,', '§12],', '[29,', '§4],', '[27,']\n",
      "['in', 'a', 'Ricci', 'ﬂow', 'is', 'contained']\n",
      "['in', 'a', 'canonical', 'neighbourhood,', 'such', 'as']\n",
      "['in', 'these', 'regions', 'one', 'can', 'still']\n",
      "['in', 'canonical', 'neighbourhoods.', 'If', 'these', 'neighbourhoods']\n",
      "['in', 'addition', 'to', 'ε-round', 'and', 'C']\n",
      "['in', 'the', 'horn', 'of', 'suﬃciently', 'high']\n",
      "['in', 'a', 'δ', '-neck.', 'The', 'proof']\n",
      "['in', 'δ', '-necks.', 'Rescaling', 'and', 'taking']\n",
      "['in', 'an', 'ε-neck.', 'By', 'considering', 'what']\n",
      "['in', 'time', 'to', 'an', 'ancient', 'solution,']\n",
      "['in', 'fact', 'a', 'round', 'sphere,', 'and']\n",
      "['in', 'which', 'was', 'then', 'expanded', 'in']\n",
      "['in', '[5,', '§7.3],', '[27,', '§12],', 'or']\n",
      "['in', 'the', 'PERELMAN’S', 'PROOF', 'OF', 'POINCAR']\n",
      "['in', 'harmonic', 'analysis,', 'and', 'so', 'it']\n",
      "['in', 'R4', '(with', 'the', 'Riemannian', 'metric']\n",
      "['in', 'R3', 'in', 'the', 'usual', 'manner)']\n",
      "['in', 'particular', 'must', 'develop', 'a', 'singularity']\n",
      "['in', 'other', 'words,', 'T∗', '≤', '1.']\n",
      "['in', 'the', 'previous', 'section,', 'one', 'can']\n",
      "['in', '[5],', 'which', 'goes', 'through', 'the']\n",
      "['in', '[22,', '§59]', 'and', 'attributed', 'to']\n",
      "['in', 'Section', '11', 'would', 'imply', 'that']\n",
      "['in', 'Section', '11)', 'to', 'show', 'that']\n",
      "['in', 'a', 'ε-neck', 'or', '(C,', 'ε)-cap;']\n",
      "['in', 'general,', 'and', 'so', 'one', 'must']\n",
      "['in', 'the', 'interval', '[2n', ',', '2n+1']\n",
      "['in', 'Section', '12', 'we', 'know', 'that']\n",
      "['in', 'one', 'of', 'a', 'ﬁnite', 'number']\n",
      "['in', 'the', 'Ricci', 'ﬂow63', 'with', 'scalar']\n",
      "['in', 'a', 'horn', 'is', 'contained', 'in']\n",
      "['in', 'the', 'centre', 'of', 'a', 'δn']\n",
      "['in', 'the', 'non-rescaled', 'metric)', '-', 'this']\n",
      "['in', 'the', 'Ricci', 'ﬂow', 'with', 'surgery,']\n",
      "['in', 'these', 'components', 'is', 'contained', 'in']\n",
      "['in', 'a', 'canonical', 'neighbourhood.', 'Some', 'topology-chasing']\n",
      "['in', 'order', 'to', 'focus', 'on', 'the']\n",
      "['in', 'time', 'to', 'desingularise', 'the', 'pre-surgery']\n",
      "['in', 'ﬁnite', 'time.', '(ii)', 'The', 'surgery']\n",
      "['in', 'the', 'above', 'analy-', 'sis,', 'remains']\n",
      "['in', 'the', 'presence', 'of', 'surgery.', 'In']\n",
      "['in', 'the', 'limit', 't', '→', '∞.)']\n",
      "['in', 'a', 'single', 'dyadic', 'time', 'interval']\n",
      "['in', 'ﬁnite', 'time.', 'We', 'thank', 'John']\n",
      "['in', '[27,', '§18].', 'The', 'strategy', 'is']\n",
      "['in', 'Section', '6', 'to', 'Ricci', 'ﬂow']\n",
      "['in', 'the', 'direction', 'of', 'their', 'Ricci']\n",
      "['in', 'symplectic', 'manifolds,', 'Invent.', 'Math.', '82']\n",
      "['in', 'Ricci', 'ﬂow,', 'Surveys', 'in', 'Diﬀ.']\n",
      "['in', 'the', 'work', 'of', 'Perelman,', 'preprint.']\n",
      "['in', 'Mathematics', '171,', 'Springer-Verlag,', 'New', 'York,']\n",
      "['in', 'diﬀerential', 'geometry,', 'in', '‘Proceedings', 'of']\n"
     ]
    }
   ],
   "source": [
    "#!/usr/bin/env python\n",
    "# encoding: utf-8\n",
    "import logging\n",
    "logging.propagate = False \n",
    "logging.getLogger().setLevel(logging.ERROR)\n",
    "\n",
    "from pdfminer.pdfparser import PDFParser,PDFDocument\n",
    "from pdfminer.pdfinterp import PDFResourceManager, PDFPageInterpreter\n",
    "from pdfminer.converter import PDFPageAggregator\n",
    "from pdfminer.layout import LTTextBoxHorizontal,LAParams\n",
    "from pdfminer.pdfinterp import PDFTextExtractionNotAllowed\n",
    "\n",
    "\n",
    "def pdf2str(filename):\n",
    "    fp = open(filename, 'rb')\n",
    "    praser = PDFParser(fp)\n",
    "    doc = PDFDocument()\n",
    "    praser.set_document(doc)\n",
    "    doc.set_parser(praser)\n",
    "    doc.initialize()\n",
    "\n",
    "    if not doc.is_extractable:\n",
    "        raise PDFTextExtractionNotAllowed\n",
    "    else:\n",
    "        rsrcmgr = PDFResourceManager()\n",
    "        laparams = LAParams()\n",
    "        device = PDFPageAggregator(rsrcmgr, laparams=laparams)\n",
    "        interpreter = PDFPageInterpreter(rsrcmgr, device)\n",
    "        s = ''\n",
    "        for page in doc.get_pages():\n",
    "            interpreter.process_page(page)\n",
    "            layout = device.get_result()\n",
    "            for x in layout:\n",
    "                if isinstance(x, LTTextBoxHorizontal):\n",
    "                    results = x.get_text()\n",
    "                    s += results\n",
    "        return s\n",
    "\n",
    "s = pdf2str(corpus_root + 'terence.pdf')\n",
    "s = s.split()\n",
    "follow(s, 'in', 5)"
   ]
  },
  {
   "cell_type": "markdown",
   "metadata": {},
   "source": [
    "## Read texts from doc files"
   ]
  },
  {
   "cell_type": "code",
   "execution_count": 3,
   "metadata": {},
   "outputs": [
    {
     "data": {
      "text/plain": [
       "FreqDist({'分': 71, '，': 68, '学': 66, '\\n': 62, '工': 61, '1': 57, '2': 55, '。': 53, '的': 51, '江': 47, ...})"
      ]
     },
     "execution_count": 3,
     "metadata": {},
     "output_type": "execute_result"
    }
   ],
   "source": [
    "import docx\n",
    "#docx.Document(corpus_root+'zjc.doc')\n",
    "import codecs\n",
    "\n",
    "f = corpus_root+'zjjy.txt'\n",
    "with open(f, encoding='gb2312') as fo:\n",
    "    s = fo.read()\n",
    "# bg = nltk.bigrams([w for w in s.split() if w.isalpha()])\n",
    "# cfd = nltk.ConditionalFreqDist([(a, b) for a, b in bg])\n",
    "\n",
    "fd = nltk.FreqDist(s)\n"
   ]
  },
  {
   "cell_type": "code",
   "execution_count": 4,
   "metadata": {},
   "outputs": [],
   "source": [
    "#from nltk.corpus import PlaintextCorpusReader\n",
    "#wl = PlaintextCorpusReader(corpus_root, '.*')\n",
    "# wl.fileids()\n",
    "\n",
    "# Conditional Distribution\n",
    "import pathlib\n",
    "corpus_root = pathlib.Path('/Users/William/Folders/mycorpus')\n",
    "f = corpus_root / 'wavelets.tex'\n",
    "with open(f) as fo:\n",
    "    s = fo.read()\n",
    "bg = nltk.bigrams([w for w in s.split() if w.isalpha()])\n",
    "cfd = nltk.ConditionalFreqDist([(a, b) for a, b in bg])\n",
    "# cfd.tabulate()\n"
   ]
  },
  {
   "cell_type": "markdown",
   "metadata": {},
   "source": [
    "# wordnet"
   ]
  },
  {
   "cell_type": "code",
   "execution_count": 1,
   "metadata": {},
   "outputs": [
    {
     "ename": "NameError",
     "evalue": "name 'nltk' is not defined",
     "output_type": "error",
     "traceback": [
      "\u001b[0;31m---------------------------------------------------------------------------\u001b[0m",
      "\u001b[0;31mNameError\u001b[0m                                 Traceback (most recent call last)",
      "\u001b[0;32m<ipython-input-1-1f0a5eeb9b8d>\u001b[0m in \u001b[0;36m<module>\u001b[0;34m\u001b[0m\n\u001b[0;32m----> 1\u001b[0;31m \u001b[0mnltk\u001b[0m\u001b[0;34m.\u001b[0m\u001b[0mdownload\u001b[0m\u001b[0;34m(\u001b[0m\u001b[0;34m'wordnet'\u001b[0m\u001b[0;34m)\u001b[0m\u001b[0;34m\u001b[0m\u001b[0;34m\u001b[0m\u001b[0m\n\u001b[0m\u001b[1;32m      2\u001b[0m \u001b[0mwnl\u001b[0m \u001b[0;34m=\u001b[0m \u001b[0mnltk\u001b[0m\u001b[0;34m.\u001b[0m\u001b[0mWordNetLemmatizer\u001b[0m\u001b[0;34m(\u001b[0m\u001b[0;34m)\u001b[0m\u001b[0;34m\u001b[0m\u001b[0;34m\u001b[0m\u001b[0m\n\u001b[1;32m      3\u001b[0m \u001b[0mraw\u001b[0m \u001b[0;34m=\u001b[0m \u001b[0;34m'Lily loves flowers'\u001b[0m\u001b[0;34m\u001b[0m\u001b[0;34m\u001b[0m\u001b[0m\n\u001b[1;32m      4\u001b[0m \u001b[0mtokens\u001b[0m \u001b[0;34m=\u001b[0m \u001b[0mnltk\u001b[0m\u001b[0;34m.\u001b[0m\u001b[0mword_tokenize\u001b[0m\u001b[0;34m(\u001b[0m\u001b[0mraw\u001b[0m\u001b[0;34m)\u001b[0m\u001b[0;34m\u001b[0m\u001b[0;34m\u001b[0m\u001b[0m\n\u001b[1;32m      5\u001b[0m \u001b[0;34m[\u001b[0m\u001b[0mwnl\u001b[0m\u001b[0;34m.\u001b[0m\u001b[0mlemmatize\u001b[0m\u001b[0;34m(\u001b[0m\u001b[0mt\u001b[0m\u001b[0;34m)\u001b[0m \u001b[0;32mfor\u001b[0m \u001b[0mt\u001b[0m \u001b[0;32min\u001b[0m \u001b[0mtokens\u001b[0m\u001b[0;34m]\u001b[0m\u001b[0;34m\u001b[0m\u001b[0;34m\u001b[0m\u001b[0m\n",
      "\u001b[0;31mNameError\u001b[0m: name 'nltk' is not defined"
     ]
    }
   ],
   "source": [
    "nltk.download('wordnet')\n",
    "wnl = nltk.WordNetLemmatizer()\n",
    "raw = 'Lily loves flowers'\n",
    "tokens = nltk.word_tokenize(raw)\n",
    "[wnl.lemmatize(t) for t in tokens]"
   ]
  },
  {
   "cell_type": "markdown",
   "metadata": {},
   "source": [
    "## Tokenize\n",
    "Important for linguistic analysis\n",
    "\n",
    "tokenize -> tag"
   ]
  },
  {
   "cell_type": "code",
   "execution_count": 10,
   "metadata": {},
   "outputs": [],
   "source": [
    "\n",
    "sentence = \"\"\"At eight o'clock on Thursday morning. Arthur didn't feel very good.\"\"\"\n",
    "tokens = nltk.word_tokenize(sentence)\n",
    "tags = nltk.pos_tag(tokens)"
   ]
  },
  {
   "cell_type": "markdown",
   "metadata": {},
   "source": [
    "## Corpus\n",
    "\n",
    "download corpus with `nltk.download('sinica_treebank')`\n",
    "\n",
    "Searched in:\n",
    "    - '/Users/william/nltk_data'\n",
    "    - '/Library/Frameworks/Python.framework/Versions/3.6/nltk_data'\n",
    "    - '/Library/Frameworks/Python.framework/Versions/3.6/share/nltk_data'\n",
    "    - '/Library/Frameworks/Python.framework/Versions/3.6/lib/nltk_data'\n",
    "    - '/usr/share/nltk_data'\n",
    "    - '/usr/local/share/nltk_data'\n",
    "    - '/usr/lib/nltk_data'\n",
    "    - '/usr/local/lib/nltk_data'\n",
    "    \n",
    "`nltk.app.concordance()`  concordance tool"
   ]
  },
  {
   "cell_type": "code",
   "execution_count": 13,
   "metadata": {},
   "outputs": [],
   "source": [
    "tagged = nltk.tag.str2tuple('fly/NN') # => ('fly', 'NN')"
   ]
  },
  {
   "cell_type": "code",
   "execution_count": 22,
   "metadata": {},
   "outputs": [
    {
     "data": {
      "text/plain": [
       "[('The', 'AT'), ('Fulton', 'NP-TL'), ...]"
      ]
     },
     "execution_count": 22,
     "metadata": {},
     "output_type": "execute_result"
    },
    {
     "data": {
      "text/plain": [
       "[('Pierre', 'NNP'), ('Vinken', 'NNP'), (',', ','), ...]"
      ]
     },
     "execution_count": 22,
     "metadata": {},
     "output_type": "execute_result"
    }
   ],
   "source": [
    "nltk.corpus.brown.tagged_words()\n",
    "nltk.corpus.treebank.tagged_words()\n",
    "nltk.corpus.brown.tagged_words(categories='news')"
   ]
  },
  {
   "cell_type": "code",
   "execution_count": 28,
   "metadata": {},
   "outputs": [],
   "source": [
    "# dict of tag: word1, word2, ...\n",
    "memory = {}\n",
    "for word, tag in nltk.corpus.brown.tagged_words():\n",
    "    if tag in memory:\n",
    "        memory[tag].add(word)\n",
    "    else:\n",
    "        memory[tag] = {word}"
   ]
  },
  {
   "cell_type": "code",
   "execution_count": 31,
   "metadata": {},
   "outputs": [
    {
     "data": {
      "text/plain": [
       "[[('The', 'AT'), ('Fulton', 'NP-TL'), ('County', 'NN-TL'), ('Grand', 'JJ-TL'), ('Jury', 'NN-TL'), ('said', 'VBD'), ('Friday', 'NR'), ('an', 'AT'), ('investigation', 'NN'), ('of', 'IN'), (\"Atlanta's\", 'NP$'), ('recent', 'JJ'), ('primary', 'NN'), ('election', 'NN'), ('produced', 'VBD'), ('``', '``'), ('no', 'AT'), ('evidence', 'NN'), (\"''\", \"''\"), ('that', 'CS'), ('any', 'DTI'), ('irregularities', 'NNS'), ('took', 'VBD'), ('place', 'NN'), ('.', '.')], [('The', 'AT'), ('jury', 'NN'), ('further', 'RBR'), ('said', 'VBD'), ('in', 'IN'), ('term-end', 'NN'), ('presentments', 'NNS'), ('that', 'CS'), ('the', 'AT'), ('City', 'NN-TL'), ('Executive', 'JJ-TL'), ('Committee', 'NN-TL'), (',', ','), ('which', 'WDT'), ('had', 'HVD'), ('over-all', 'JJ'), ('charge', 'NN'), ('of', 'IN'), ('the', 'AT'), ('election', 'NN'), (',', ','), ('``', '``'), ('deserves', 'VBZ'), ('the', 'AT'), ('praise', 'NN'), ('and', 'CC'), ('thanks', 'NNS'), ('of', 'IN'), ('the', 'AT'), ('City', 'NN-TL'), ('of', 'IN-TL'), ('Atlanta', 'NP-TL'), (\"''\", \"''\"), ('for', 'IN'), ('the', 'AT'), ('manner', 'NN'), ('in', 'IN'), ('which', 'WDT'), ('the', 'AT'), ('election', 'NN'), ('was', 'BEDZ'), ('conducted', 'VBN'), ('.', '.')], ...]"
      ]
     },
     "execution_count": 31,
     "metadata": {},
     "output_type": "execute_result"
    }
   ],
   "source": [
    "# tags depend on their context in sentences\n",
    "tagged_sents = nltk.corpus.brown.tagged_sents(categories='news')\n",
    "tagged_sents"
   ]
  },
  {
   "cell_type": "markdown",
   "metadata": {},
   "source": [
    "## Self-defined tagger\n",
    "\n",
    "DefaultTagger/RegexpTagger\n",
    "\n",
    "UnigramTagger/BigramTagger/...\n",
    "\n",
    "### Combine taggers\n",
    "```python\n",
    "t1= Tagger(model, backoff=t0)\n",
    "t2= Tagger(model, backoff=t1)\n",
    "```"
   ]
  },
  {
   "cell_type": "code",
   "execution_count": 37,
   "metadata": {},
   "outputs": [
    {
     "data": {
      "text/plain": [
       "0.4602999383415876"
      ]
     },
     "execution_count": 37,
     "metadata": {},
     "output_type": "execute_result"
    }
   ],
   "source": [
    "# nltk.DefaultTagger('NN')\n",
    "# patterns = [(regexp, tag)]\n",
    "# nltk.RegexpTagger(patterns)\n",
    "\n",
    "# UnigramTagger({word:tag}, backoff)\n",
    "words = nltk.corpus.brown.words()\n",
    "tagged_words = nltk.corpus.brown.tagged_words()\n",
    "fd = nltk.FreqDist(words)\n",
    "cfd = nltk.ConditionalFreqDist(tagged_words)\n",
    "model = {word:cfd[word].max() for word in list(fd.keys())[:100]}\n",
    "tagger = nltk.UnigramTagger(model=model, backoff=nltk.DefaultTagger('NN'))\n",
    "tagger.evaluate(tagged_sents)\n",
    "\n",
    "tagger.tag(tagged_sents[3])"
   ]
  },
  {
   "cell_type": "markdown",
   "metadata": {},
   "source": [
    "```python\n",
    "class MyTagger(nltk.TaggerI):\n",
    "    def __init__(self, train):\n",
    "        ...\n",
    "    def tag(self, sentence):\n",
    "        pass\n",
    "```"
   ]
  },
  {
   "cell_type": "markdown",
   "metadata": {},
   "source": [
    "# Classification\n",
    "\n",
    "```python\n",
    "train = [({'f':x}, y)]  # list of input-output pairs\n",
    "classifier = nltk.NaiveBayesClassifier.train(train)\n",
    "nltk.classify.accuracy(classifier, test)\n",
    "```\n",
    "\n",
    "[name_gender](https://github.com/Freakwill/name_gender)"
   ]
  },
  {
   "cell_type": "code",
   "execution_count": 4,
   "metadata": {},
   "outputs": [],
   "source": [
    "# nltk.download('names')\n",
    "\n",
    "# names = [(name, 'male') for name in nltk.corpus.names.words('male.txt')] + [(name, 'female') for name in nltk.corpus.names.words('female.txt')]\n",
    "# train, test = features[500:], featrues[:500]\n",
    "# classifier = nltk.NaiveBayesClassifier.train(train)\n"
   ]
  },
  {
   "cell_type": "markdown",
   "metadata": {},
   "source": [
    "# RTE"
   ]
  },
  {
   "cell_type": "code",
   "execution_count": 8,
   "metadata": {},
   "outputs": [],
   "source": [
    "# rtepair = nltk.corpus.rte.pairs(['rte3_dev.xml'])[33]\n",
    "# rtepair = nltk.corpus.rte.pairs('I am a Person', 'I love you')\n",
    "# extractor = nltk.classify.rte_classify.RTEFeatureExtractor(rtepair)\n",
    "# rte_features(rtepair)"
   ]
  },
  {
   "cell_type": "markdown",
   "metadata": {},
   "source": [
    "# Information Theory"
   ]
  },
  {
   "cell_type": "code",
   "execution_count": 43,
   "metadata": {},
   "outputs": [
    {
     "data": {
      "text/plain": [
       "0.8112781244591328"
      ]
     },
     "execution_count": 43,
     "metadata": {},
     "output_type": "execute_result"
    }
   ],
   "source": [
    "import scipy\n",
    "\n",
    "def entropy(xs):\n",
    "    fd = nltk.FreqDist(xs)\n",
    "    ps = [p for x, p in fd.items()]\n",
    "    # ps = list(fd.values())\n",
    "    return scipy.stats.entropy(ps, base=2)\n",
    "\n",
    "xs = ['male', 'female', 'male', 'male']\n",
    "entropy(xs)"
   ]
  },
  {
   "cell_type": "code",
   "execution_count": 33,
   "metadata": {},
   "outputs": [
    {
     "data": {
      "text/plain": [
       "1.0"
      ]
     },
     "execution_count": 33,
     "metadata": {},
     "output_type": "execute_result"
    }
   ],
   "source": [
    "scipy.stats.entropy([2,2], base=2)"
   ]
  },
  {
   "cell_type": "markdown",
   "metadata": {},
   "source": [
    "# Text Parsing"
   ]
  },
  {
   "cell_type": "code",
   "execution_count": 16,
   "metadata": {},
   "outputs": [
    {
     "name": "stdout",
     "output_type": "stream",
     "text": [
      "[('The', 'DT'), ('little', 'JJ'), ('yellow', 'JJ'), ('dog', 'NN'), ('barked', 'VBD'), ('at', 'IN'), ('the', 'DT'), ('cat', 'NN'), ('owned', 'VBN'), ('by', 'IN'), ('Lucy', 'NNP'), ('.', '.')]\n",
      "(S\n",
      "  (NP The/DT little/JJ yellow/JJ dog/NN)\n",
      "  barked/VBD\n",
      "  at/IN\n",
      "  (NP the/DT cat/NN)\n",
      "  owned/VBN\n",
      "  by/IN\n",
      "  (NP Lucy/NNP)\n",
      "  ./.)\n"
     ]
    }
   ],
   "source": [
    "sentence='The little yellow dog barked at the cat owned by Lucy.'\n",
    "tokens = nltk.word_tokenize(sentence)\n",
    "tags = nltk.pos_tag(tokens)\n",
    "\n",
    "print(tags)\n",
    "\n",
    "# cp = nltk.RegexpParser(\"\")\n",
    "# result = cp.parse(tags)\n",
    "# print(result)\n",
    "\n",
    "grammar = r\"\"\"\n",
    "NP: {<DT>?<JJ>*<NN>}\n",
    "{<NNP>+}\n",
    "\"\"\"  # NP - chunking\n",
    "cp = nltk.RegexpParser(grammar)\n",
    "result = cp.parse(tags)  # grammar tree\n",
    "print(result)\n"
   ]
  },
  {
   "cell_type": "code",
   "execution_count": 25,
   "metadata": {},
   "outputs": [
    {
     "name": "stdout",
     "output_type": "stream",
     "text": [
      "S\n",
      "NP\n",
      "NP\n",
      "NP\n"
     ]
    }
   ],
   "source": [
    "# subtrees of a grammar tree\n",
    "for subtree in result.subtrees():\n",
    "    print(subtree.label())"
   ]
  },
  {
   "cell_type": "markdown",
   "metadata": {},
   "source": [
    "## CoNLL2000 Chunking"
   ]
  },
  {
   "cell_type": "code",
   "execution_count": 2,
   "metadata": {},
   "outputs": [],
   "source": [
    "text = \"\"\"\n",
    "he PRP B-NP\n",
    "accepted VBD B-VP\n",
    "the DT B-NP\n",
    "position NN I-NP\n",
    ". . O\n",
    "\"\"\"\n",
    "nltk.chunk.conllstr2tree(text, chunk_types=['NP']).draw()"
   ]
  },
  {
   "cell_type": "code",
   "execution_count": 6,
   "metadata": {},
   "outputs": [
    {
     "data": {
      "image/png": "[encoded data removed]",
      "text/plain": [
       "Tree('S', [Tree('PP', [('Over', 'IN')]), Tree('NP', [('a', 'DT'), ('cup', 'NN')]), Tree('PP', [('of', 'IN')]), Tree('NP', [('coffee', 'NN')]), (',', ','), Tree('NP', [('Mr.', 'NNP'), ('Stone', 'NNP')]), Tree('VP', [('told', 'VBD')]), Tree('NP', [('his', 'PRP$'), ('story', 'NN')]), ('.', '.')])"
      ]
     },
     "execution_count": 6,
     "metadata": {},
     "output_type": "execute_result"
    }
   ],
   "source": [
    "\n",
    "nltk.corpus.conll2000.chunked_sents('train.txt')[99]"
   ]
  },
  {
   "cell_type": "markdown",
   "metadata": {},
   "source": [
    "## Grammar Analysis"
   ]
  },
  {
   "cell_type": "code",
   "execution_count": 30,
   "metadata": {},
   "outputs": [
    {
     "data": {
      "text/plain": [
       "(S, (NP, VP))"
      ]
     },
     "execution_count": 30,
     "metadata": {},
     "output_type": "execute_result"
    },
    {
     "data": {
      "text/plain": [
       "(PP, (P, NP))"
      ]
     },
     "execution_count": 30,
     "metadata": {},
     "output_type": "execute_result"
    },
    {
     "data": {
      "text/plain": [
       "(NP, (Det, N))"
      ]
     },
     "execution_count": 30,
     "metadata": {},
     "output_type": "execute_result"
    },
    {
     "data": {
      "text/plain": [
       "(NP, (Det, N, PP))"
      ]
     },
     "execution_count": 30,
     "metadata": {},
     "output_type": "execute_result"
    },
    {
     "data": {
      "text/plain": [
       "(NP, ('I',))"
      ]
     },
     "execution_count": 30,
     "metadata": {},
     "output_type": "execute_result"
    },
    {
     "data": {
      "text/plain": [
       "(VP, (V, NP))"
      ]
     },
     "execution_count": 30,
     "metadata": {},
     "output_type": "execute_result"
    },
    {
     "data": {
      "text/plain": [
       "(VP, (VP, PP))"
      ]
     },
     "execution_count": 30,
     "metadata": {},
     "output_type": "execute_result"
    },
    {
     "data": {
      "text/plain": [
       "(Det, ('an',))"
      ]
     },
     "execution_count": 30,
     "metadata": {},
     "output_type": "execute_result"
    },
    {
     "data": {
      "text/plain": [
       "(Det, ('my',))"
      ]
     },
     "execution_count": 30,
     "metadata": {},
     "output_type": "execute_result"
    },
    {
     "data": {
      "text/plain": [
       "(N, ('elephant',))"
      ]
     },
     "execution_count": 30,
     "metadata": {},
     "output_type": "execute_result"
    },
    {
     "data": {
      "text/plain": [
       "(N, ('pajamas',))"
      ]
     },
     "execution_count": 30,
     "metadata": {},
     "output_type": "execute_result"
    },
    {
     "data": {
      "text/plain": [
       "(V, ('shot',))"
      ]
     },
     "execution_count": 30,
     "metadata": {},
     "output_type": "execute_result"
    },
    {
     "data": {
      "text/plain": [
       "(P, ('in',))"
      ]
     },
     "execution_count": 30,
     "metadata": {},
     "output_type": "execute_result"
    }
   ],
   "source": [
    "grammar = nltk.CFG.fromstring(\"\"\"\n",
    "S -> NP VP\n",
    "PP -> P NP\n",
    "NP -> Det N | Det N PP | 'I'\n",
    "VP -> V NP | VP PP\n",
    "Det -> 'an' | 'my'\n",
    "N -> 'elephant' | 'pajamas'\n",
    "V -> 'shot'\n",
    "P -> 'in'\n",
    "\"\"\")\n",
    "\n",
    "for p in grammar.productions():\n",
    "    p.lhs(), p.rhs()\n"
   ]
  },
  {
   "cell_type": "code",
   "execution_count": null,
   "metadata": {},
   "outputs": [],
   "source": [
    "\n",
    "sent = ['I', 'shot', 'an', 'elephant', 'in', 'my', 'pajamas']\n",
    "parser = nltk.ChartParser(grammar)  # Chart Parser, WFST\n",
    "trees = parser.parse(sent)\n",
    "for tree in trees:\n",
    "    print(tree)\n",
    "    \n",
    "# rd_parser = nltk.RecursiveDescentParser(grammar)\n",
    "# for i in rd_parser.parse(sent):\n",
    "#     print(i)\n"
   ]
  },
  {
   "cell_type": "markdown",
   "metadata": {},
   "source": [
    "## Shift-Reduce\n",
    "* Shift: 此解析器反复将下个输入词push进stack。\n",
    "* Reduce: if stack前n项，匹配表达式右侧的n个项目，then 弹出栈，and 将产生式左边项目压如栈。\n",
    "\n",
    "两个缺点:\n",
    "- 由于堆栈的特殊性，只能找到一种解析\n",
    "- 不能保证一定能找到解析\n"
   ]
  },
  {
   "cell_type": "code",
   "execution_count": 24,
   "metadata": {},
   "outputs": [
    {
     "data": {
      "text/plain": [
       "[]"
      ]
     },
     "execution_count": 24,
     "metadata": {},
     "output_type": "execute_result"
    }
   ],
   "source": [
    "parser = nltk.ShiftReduceParser(grammar)\n",
    "list(parser.parse(sent))"
   ]
  },
  {
   "cell_type": "code",
   "execution_count": 32,
   "metadata": {},
   "outputs": [],
   "source": [
    "parser = nltk.ProjectiveDependencyParser(grammar)\n",
    "trees = parser.parse(sent)\n"
   ]
  },
  {
   "cell_type": "markdown",
   "metadata": {},
   "source": [
    "# Feature Syntax\n",
    "\n",
    "## AVM\n",
    "\n",
    "$\\left[\\begin{align} POS & N &\\\\\n",
    " &  PER & 3 \\\\\n",
    "ARG    & NUM & pl \\\\\n",
    "    & GND & fem \n",
    "    \\end{align}\\right]$\n",
    "\n",
    "## Feature Struct\n",
    "\n",
    "```python\n",
    "fs0 = FeatStruct(PER=3, NUM='pl', GND='fem')\n",
    "fs = FeatStruct(POS='N', ARG=fs0)\n",
    "FeatStruct(\"[POS='N', AGR=[PER=3, NUM='pl', GND='fem']]\")\n",
    "```"
   ]
  },
  {
   "cell_type": "code",
   "execution_count": 5,
   "metadata": {},
   "outputs": [
    {
     "name": "stdout",
     "output_type": "stream",
     "text": [
      "% start S\n",
      "# ###################\n",
      "# Grammar Productions\n",
      "# ###################\n",
      "# S expansion productions\n",
      "S -> NP[NUM=?n] VP[NUM=?n]\n",
      "# NP expansion productions\n",
      "NP[NUM=?n] -> N[NUM=?n] \n",
      "NP[NUM=?n] -> PropN[NUM=?n] \n",
      "NP[NUM=?n] -> Det[NUM=?n] N[NUM=?n]\n",
      "NP[NUM=pl] -> N[NUM=pl] \n",
      "# VP expansion productions\n",
      "VP[TENSE=?t, NUM=?n] -> IV[TENSE=?t, NUM=?n]\n",
      "VP[TENSE=?t, NUM=?n] -> TV[TENSE=?t, NUM=?n] NP\n",
      "# ###################\n",
      "# Lexical Productions\n",
      "# ###################\n",
      "Det[NUM=sg] -> 'this' | 'every'\n",
      "Det[NUM=pl] -> 'these' | 'all'\n",
      "Det -> 'the' | 'some' | 'several'\n",
      "PropN[NUM=sg]-> 'Kim' | 'Jody'\n",
      "N[NUM=sg] -> 'dog' | 'girl' | 'car' | 'child'\n",
      "N[NUM=pl] -> 'dogs' | 'girls' | 'cars' | 'children' \n",
      "IV[TENSE=pres,  NUM=sg] -> 'disappears' | 'walks'\n",
      "TV[TENSE=pres, NUM=sg] -> 'sees' | 'likes'\n",
      "IV[TENSE=pres,  NUM=pl] -> 'disappear' | 'walk'\n",
      "TV[TENSE=pres, NUM=pl] -> 'see' | 'like'\n",
      "IV[TENSE=past] -> 'disappeared' | 'walked'\n",
      "TV[TENSE=past] -> 'saw' | 'liked'\n",
      "|.Kim .like.chil.|\n",
      "Leaf Init Rule:\n",
      "|[----]    .    .| [0:1] 'Kim'\n",
      "|.    [----]    .| [1:2] 'likes'\n",
      "|.    .    [----]| [2:3] 'children'\n",
      "Feature Bottom Up Predict Combine Rule:\n",
      "|[----]    .    .| [0:1] PropN[NUM='sg'] -> 'Kim' *\n",
      "Feature Bottom Up Predict Combine Rule:\n",
      "|[----]    .    .| [0:1] NP[NUM='sg'] -> PropN[NUM='sg'] *\n",
      "Feature Bottom Up Predict Combine Rule:\n",
      "|[---->    .    .| [0:1] S[] -> NP[NUM=?n] * VP[NUM=?n] {?n: 'sg'}\n",
      "Feature Bottom Up Predict Combine Rule:\n",
      "|.    [----]    .| [1:2] TV[NUM='sg', TENSE='pres'] -> 'likes' *\n",
      "Feature Bottom Up Predict Combine Rule:\n",
      "|.    [---->    .| [1:2] VP[NUM=?n, TENSE=?t] -> TV[NUM=?n, TENSE=?t] * NP[] {?n: 'sg', ?t: 'pres'}\n",
      "Feature Bottom Up Predict Combine Rule:\n",
      "|.    .    [----]| [2:3] N[NUM='pl'] -> 'children' *\n",
      "Feature Bottom Up Predict Combine Rule:\n",
      "|.    .    [----]| [2:3] NP[NUM='pl'] -> N[NUM='pl'] *\n",
      "Feature Bottom Up Predict Combine Rule:\n",
      "|.    .    [---->| [2:3] S[] -> NP[NUM=?n] * VP[NUM=?n] {?n: 'pl'}\n",
      "Feature Single Edge Fundamental Rule:\n",
      "|.    [---------]| [1:3] VP[NUM='sg', TENSE='pres'] -> TV[NUM='sg', TENSE='pres'] NP[] *\n",
      "Feature Single Edge Fundamental Rule:\n",
      "|[==============]| [0:3] S[] -> NP[NUM='sg'] VP[NUM='sg'] *\n",
      "(S[]\n",
      "  (NP[NUM='sg'] (PropN[NUM='sg'] Kim))\n",
      "  (VP[NUM='sg', TENSE='pres']\n",
      "    (TV[NUM='sg', TENSE='pres'] likes)\n",
      "    (NP[NUM='pl'] (N[NUM='pl'] children))))\n"
     ]
    }
   ],
   "source": [
    "nltk.data.show_cfg('grammars/book_grammars/feat0.fcfg')\n",
    "cp=nltk.load_parser('grammars/book_grammars/feat0.fcfg', trace=2)\n",
    "trees = cp.parse('Kim likes children'.split())\n",
    "\n",
    "for tree in trees:\n",
    "    print(tree)"
   ]
  },
  {
   "cell_type": "code",
   "execution_count": null,
   "metadata": {},
   "outputs": [],
   "source": []
  },
  {
   "cell_type": "markdown",
   "metadata": {},
   "source": [
    "# Logic\n",
    "\n",
    "prover9\n",
    "\n",
    "[Howto](http://www.nltk.org/howto/logic.html)"
   ]
  },
  {
   "cell_type": "code",
   "execution_count": 2,
   "metadata": {},
   "outputs": [],
   "source": [
    "from nltk.sem import Valuation, Model, Expression"
   ]
  },
  {
   "cell_type": "code",
   "execution_count": 8,
   "metadata": {},
   "outputs": [
    {
     "data": {
      "text/plain": [
       "True"
      ]
     },
     "execution_count": 8,
     "metadata": {},
     "output_type": "execute_result"
    }
   ],
   "source": [
    "pq = Expression.fromstring('P -> Q')\n",
    "p = Expression.fromstring('P')\n",
    "q = Expression.fromstring('Q')\n",
    "prover = nltk.Prover9()\n",
    "prover.prove(q, [pq, p])"
   ]
  },
  {
   "cell_type": "markdown",
   "metadata": {},
   "source": [
    "## Model semantics\n",
    "\n",
    "Model = Domain + Valuation"
   ]
  },
  {
   "cell_type": "code",
   "execution_count": 37,
   "metadata": {},
   "outputs": [
    {
     "data": {
      "text/plain": [
       "True"
      ]
     },
     "execution_count": 37,
     "metadata": {},
     "output_type": "execute_result"
    },
    {
     "data": {
      "text/plain": [
       "True"
      ]
     },
     "execution_count": 37,
     "metadata": {},
     "output_type": "execute_result"
    }
   ],
   "source": [
    "val = Valuation((('P', True), ('Q', True)))\n",
    "val['P']\n",
    "dom = set()\n",
    "g = nltk.Assignment(dom)\n",
    "m = nltk.Model(dom, val)\n",
    "m.evaluate('P & Q', g)"
   ]
  },
  {
   "cell_type": "markdown",
   "metadata": {},
   "source": [
    "## Predicate Logic\n",
    "\n",
    "- expression\n",
    "- type\n",
    "- lambda expression"
   ]
  },
  {
   "cell_type": "code",
   "execution_count": 10,
   "metadata": {},
   "outputs": [
    {
     "data": {
      "text/plain": [
       "<LambdaExpression \\x.bullshit(x)>"
      ]
     },
     "execution_count": 10,
     "metadata": {},
     "output_type": "execute_result"
    }
   ],
   "source": [
    "b = nltk.sem.Expression.fromstring('bullshit(leader)')\n",
    "bx = nltk.sem.Expression.fromstring(r'\\x.bullshit(x)')\n",
    "bx"
   ]
  },
  {
   "cell_type": "code",
   "execution_count": 34,
   "metadata": {},
   "outputs": [
    {
     "name": "stdout",
     "output_type": "stream",
     "text": [
      "?\n",
      "<e,t>\n"
     ]
    }
   ],
   "source": [
    "tlp = nltk.sem.logic.LogicParser(True)\n",
    "print(tlp.parse('man(x)').type)\n",
    "\n",
    "sig = {'man': '<e, t>'}\n",
    "e = tlp.parse('man(x)', sig)\n",
    "print(e.function.type)"
   ]
  },
  {
   "cell_type": "markdown",
   "metadata": {},
   "source": [
    "### Model semantics\n",
    "\n",
    "Model = Domain + Valution + Assignment"
   ]
  },
  {
   "cell_type": "code",
   "execution_count": 17,
   "metadata": {},
   "outputs": [
    {
     "data": {
      "text/plain": [
       "True"
      ]
     },
     "execution_count": 17,
     "metadata": {},
     "output_type": "execute_result"
    },
    {
     "data": {
      "text/plain": [
       "True"
      ]
     },
     "execution_count": 17,
     "metadata": {},
     "output_type": "execute_result"
    },
    {
     "data": {
      "text/plain": [
       "{'l'}"
      ]
     },
     "execution_count": 17,
     "metadata": {},
     "output_type": "execute_result"
    }
   ],
   "source": [
    "\n",
    "val=Valuation([('leader', 'l'),('bullshit', {'l'})])\n",
    "dom = val.domain\n",
    "m = Model(dom, val)\n",
    "m.evaluate('bullshit(leader)', {})\n",
    "\n",
    "dom = val.domain\n",
    "g = nltk.sem.Assignment(dom, [('x', 'l')])\n",
    "\n",
    "m.evaluate('bullshit(x)', g)\n",
    "\n",
    "g = nltk.sem.Assignment(dom, [])\n",
    "b = Expression.fromstring('bullshit(x)')\n",
    "m.satisfiers(b, 'x', g)"
   ]
  },
  {
   "cell_type": "markdown",
   "metadata": {},
   "source": [
    "## Build a model satifying the formulas\n",
    "\n",
    "- Mace: find a model\n",
    "- MaceCommand: find a conterexample"
   ]
  },
  {
   "cell_type": "code",
   "execution_count": 6,
   "metadata": {},
   "outputs": [
    {
     "data": {
      "text/plain": [
       "True"
      ]
     },
     "execution_count": 6,
     "metadata": {},
     "output_type": "execute_result"
    },
    {
     "data": {
      "text/plain": [
       "False"
      ]
     },
     "execution_count": 6,
     "metadata": {},
     "output_type": "execute_result"
    }
   ],
   "source": [
    "a = Expression.fromstring('exists x.(man(x) & walks(x))')\n",
    "c1 = Expression.fromstring('mortal(socrates)')\n",
    "c2 = Expression.fromstring('all x. (man(x) -> mortal(x))')\n",
    "c3 = Expression.fromstring('man(socrates)')\n",
    "c4 = Expression.fromstring('-mortal(socrates)')\n",
    "mb = nltk.Mace(5)\n",
    "mb.build_model(None, [c1, c2])\n",
    "mb.build_model(None, [c3, c2, c4])"
   ]
  },
  {
   "cell_type": "code",
   "execution_count": 6,
   "metadata": {},
   "outputs": [
    {
     "data": {
      "text/plain": [
       "True"
      ]
     },
     "execution_count": 6,
     "metadata": {},
     "output_type": "execute_result"
    }
   ],
   "source": [
    "a = Expression.fromstring('all x. (man(x) -> love(x, lucy) | love(x, mary))')\n",
    "b = Expression.fromstring('man(bob)')\n",
    "c = Expression.fromstring('man(carl)')\n",
    "d = Expression.fromstring('love(carl, mary)')\n",
    "mc = nltk.MaceCommand(d, assumptions=[a, b, c])\n",
    "mc.build_model()"
   ]
  },
  {
   "cell_type": "code",
   "execution_count": 7,
   "metadata": {},
   "outputs": [
    {
     "name": "stdout",
     "output_type": "stream",
     "text": [
      "{'bob': 'a',\n",
      " 'carl': 'a',\n",
      " 'love': {('a', 'a')},\n",
      " 'lucy': 'a',\n",
      " 'man': {('a',)},\n",
      " 'mary': 'b'}\n"
     ]
    }
   ],
   "source": [
    "print(mc.valuation)"
   ]
  },
  {
   "cell_type": "markdown",
   "metadata": {},
   "source": [
    "## lambda calculus"
   ]
  },
  {
   "cell_type": "code",
   "execution_count": 13,
   "metadata": {},
   "outputs": [
    {
     "name": "stdout",
     "output_type": "stream",
     "text": [
      "(\\X x.X(\\y.chase(x,y)))(\\P.exists x.(dog(x) & P(x)))\n",
      "\\x.exists z11.(dog(z11) & chase(x,z11))\n",
      "\\Z x.Z(\\y.chase(x,y))\n",
      "(\\X x.X(\\y.chase(x,y)))(\\P.exists x.(dog(x) & P(x)))\n",
      "\\x.exists z12.(dog(z12) & chase(x,z12))\n",
      "True\n"
     ]
    }
   ],
   "source": [
    "tvp=Expression.fromstring('\\X x. X(\\y.chase(x, y))')\n",
    "np=Expression.fromstring('\\P.exists x.(dog(x) & P(x))')\n",
    "vp=nltk.ApplicationExpression(tvp, np)\n",
    "print(vp)\n",
    "print(vp.simplify())  # beta-convert\n",
    "print(tvp.alpha_convert(nltk.Variable('Z')))\n",
    "\n",
    "vp1=Expression.fromstring('(\\X x. X(\\y.chase(x, y)))(\\P.exists x.(dog(x) & P(x)))')\n",
    "print(vp1)\n",
    "print(vp1.simplify())  # beta-convert\n",
    "print(vp1==vp)"
   ]
  },
  {
   "cell_type": "code",
   "execution_count": 27,
   "metadata": {},
   "outputs": [
    {
     "name": "stdout",
     "output_type": "stream",
     "text": [
      "[ *type* = 'S'                                    ]\n",
      "[ SEM    = <all z20.(boy(z20) -> see(cyril,z20))> ]\n"
     ]
    }
   ],
   "source": [
    "grammar_file = 'grammars/book_grammars/simple-sem.fcfg'\n",
    "parser = nltk.load_parser(grammar_file, trace=0)\n",
    "s = 'Cyril sees every boy'\n",
    "t = s.split()\n",
    "trees = parser.parse(t)\n",
    "for tree in trees:\n",
    "    print(tree.label())"
   ]
  },
  {
   "cell_type": "code",
   "execution_count": 29,
   "metadata": {},
   "outputs": [
    {
     "name": "stdout",
     "output_type": "stream",
     "text": [
      "(S[SEM=<all z22.(boy(z22) -> see(cyril,z22))>]\n",
      "  (NP[-LOC, NUM='sg', SEM=<\\P.P(cyril)>]\n",
      "    (PropN[-LOC, NUM='sg', SEM=<\\P.P(cyril)>] Cyril))\n",
      "  (VP[NUM='sg', SEM=<\\x.all z22.(boy(z22) -> see(x,z22))>]\n",
      "    (TV[NUM='sg', SEM=<\\X x.X(\\y.see(x,y))>, TNS='pres'] sees)\n",
      "    (NP[NUM='sg', SEM=<\\Q.all x.(boy(x) -> Q(x))>]\n",
      "      (Det[NUM='sg', SEM=<\\P Q.all x.(P(x) -> Q(x))>] every)\n",
      "      (Nom[NUM='sg', SEM=<\\x.boy(x)>]\n",
      "        (N[NUM='sg', SEM=<\\x.boy(x)>] boy)))))\n",
      "all z22.(boy(z22) -> see(cyril,z22)) False\n"
     ]
    }
   ],
   "source": [
    "val=Valuation([('cyril', 'c'),('bertie', 'b'), ('boy', {'b'}), ('see', {('m', 'b')})])\n",
    "dom = val.domain\n",
    "m = Model(dom, val)\n",
    "g = nltk.sem.Assignment(dom)\n",
    "res = nltk.sem.evaluate_sents([s], grammar_file, m, g)[0]\n",
    "for syn, sem, val in res:\n",
    "    print(syn)\n",
    "    print(sem, val)"
   ]
  },
  {
   "cell_type": "markdown",
   "metadata": {},
   "source": [
    "### Cooper Storage\n",
    "\n",
    "- bind operator\n",
    "- S-index\n",
    "\n",
    "```\n",
    "Every girl chases a dog.\n",
    "core: chase(x,y)\n",
    "bind: \\P. exists y. (dog(y) & P(y)) (\\z2. chase(z1, z2))\n",
    "```"
   ]
  },
  {
   "cell_type": "code",
   "execution_count": 21,
   "metadata": {},
   "outputs": [
    {
     "data": {
      "text/plain": [
       "[CORE=<chase(z2,z3)>, STORE=(bo(\\P.all x.(girl(x) -> P(x)),z2), bo(\\P.exists x.(dog(x) & P(x)),z3))]"
      ]
     },
     "execution_count": 21,
     "metadata": {},
     "output_type": "execute_result"
    },
    {
     "name": "stdout",
     "output_type": "stream",
     "text": [
      "chase(z2,z3)\n"
     ]
    }
   ],
   "source": [
    "from nltk.sem import cooper_storage\n",
    "s = 'every girl chases a dog'\n",
    "t = cooper_storage.parse_with_bindops(s, grammar='grammars/book_grammars/storage.fcfg')\n",
    "semrep = t[0].label()['SEM']\n",
    "semrep\n",
    "cs_semrep = cs.CooperStore(semrep)\n",
    "print(cs_semrep.core)"
   ]
  },
  {
   "cell_type": "code",
   "execution_count": 16,
   "metadata": {},
   "outputs": [
    {
     "name": "stdout",
     "output_type": "stream",
     "text": [
      "bo(\\P.all x.(girl(x) -> P(x)),z2)\n",
      "bo(\\P.exists x.(dog(x) & P(x)),z3)\n"
     ]
    }
   ],
   "source": [
    "for bo in cs_semrep.store:\n",
    "    print(bo)  # bind operator"
   ]
  }
 ],
 "metadata": {
  "kernelspec": {
   "display_name": "Python 3",
   "language": "python",
   "name": "python3"
  },
  "language_info": {
   "codemirror_mode": {
    "name": "ipython",
    "version": 3
   },
   "file_extension": ".py",
   "mimetype": "text/x-python",
   "name": "python",
   "nbconvert_exporter": "python",
   "pygments_lexer": "ipython3",
   "version": "3.6.7"
  }
 },
 "nbformat": 4,
 "nbformat_minor": 2
}
