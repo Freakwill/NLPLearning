{
 "cells": [
  {
   "cell_type": "code",
   "execution_count": 7,
   "metadata": {},
   "outputs": [],
   "source": [
    "import nltk\n",
    "from nltk.sem import *"
   ]
  },
  {
   "cell_type": "markdown",
   "metadata": {},
   "source": [
    "## DRT\n",
    "\n",
    "DRS:\n",
    "`[x, y | angus(x), dog(y), own(x, y)]`"
   ]
  },
  {
   "cell_type": "code",
   "execution_count": 3,
   "metadata": {},
   "outputs": [],
   "source": [
    "dp = drt.DrtParser()\n",
    "drs = dp.parse('([x, y], [angus(x), dog(y), own(x, y)])')\n",
    "\n",
    "drs1 = dp.parse('([z], [PRO(z), runs(z)])')\n",
    "drs = drs + drs1\n",
    "\n",
    "drs.draw()"
   ]
  },
  {
   "cell_type": "code",
   "execution_count": 5,
   "metadata": {},
   "outputs": [
    {
     "data": {
      "text/plain": [
       "<DRS ([x,y,z],[angus(x), dog(y), own(x,y), (z = [x,y]), runs(z)])>"
      ]
     },
     "execution_count": 5,
     "metadata": {},
     "output_type": "execute_result"
    }
   ],
   "source": [
    "drs.simplify().resolve_anaphora()"
   ]
  },
  {
   "cell_type": "code",
   "execution_count": 16,
   "metadata": {},
   "outputs": [
    {
     "name": "stdout",
     "output_type": "stream",
     "text": [
      "([x,z21],[Angus(x), dog(z21), own(x,z21)])\n"
     ]
    }
   ],
   "source": [
    "parser = nltk.load_parser('grammars/book_grammars/drt.fcfg', logic_parser=drt.DrtParser())\n",
    "trees = parser.parse('Angus owns a dog'.split())\n",
    "for tree in trees:\n",
    "    print(tree.label()['SEM'].simplify())"
   ]
  },
  {
   "cell_type": "code",
   "execution_count": 8,
   "metadata": {},
   "outputs": [
    {
     "name": "stdout",
     "output_type": "stream",
     "text": [
      "\n",
      "s0 readings:\n",
      "\n",
      "s0-r0: exists z1.(boxer(z1) & walk(z1))\n",
      "s0-r1: exists z1.(boxerdog(z1) & walk(z1))\n",
      "\n",
      "s1 readings:\n",
      "\n",
      "s1-r0: all z2.(boxer(z2) -> exists z3.(girl(z3) & chase(z2,z3)))\n",
      "s1-r1: all z1.(boxerdog(z1) -> exists z2.(girl(z2) & chase(z1,z2)))\n",
      "Inconsistent discourse: d0 ['s0-r0', 's1-r0', 's2-r0']:\n",
      "    s0-r0: exists z1.(boxer(z1) & walk(z1))\n",
      "    s1-r0: all z1.(boxer(z1) -> exists z2.(girl(z2) & chase(z1,z2)))\n",
      "    s2-r0: -exists z1.(boxer(z1) & walk(z1))\n",
      "\n",
      "Consistent discourse: d1 ['s0-r0', 's1-r0', 's2-r1']:\n",
      "    s0-r0: exists z1.(boxer(z1) & walk(z1))\n",
      "    s1-r0: all z1.(boxer(z1) -> exists z2.(girl(z2) & chase(z1,z2)))\n",
      "    s2-r1: -exists z1.(boxerdog(z1) & walk(z1))\n",
      "\n",
      "Inconsistent discourse: d2 ['s0-r0', 's1-r1', 's2-r0']:\n",
      "    s0-r0: exists z1.(boxer(z1) & walk(z1))\n",
      "    s1-r1: all z1.(boxerdog(z1) -> exists z2.(girl(z2) & chase(z1,z2)))\n",
      "    s2-r0: -exists z1.(boxer(z1) & walk(z1))\n",
      "\n",
      "Consistent discourse: d3 ['s0-r0', 's1-r1', 's2-r1']:\n",
      "    s0-r0: exists z1.(boxer(z1) & walk(z1))\n",
      "    s1-r1: all z1.(boxerdog(z1) -> exists z2.(girl(z2) & chase(z1,z2)))\n",
      "    s2-r1: -exists z1.(boxerdog(z1) & walk(z1))\n",
      "\n",
      "Consistent discourse: d4 ['s0-r1', 's1-r0', 's2-r0']:\n",
      "    s0-r1: exists z1.(boxerdog(z1) & walk(z1))\n",
      "    s1-r0: all z1.(boxer(z1) -> exists z2.(girl(z2) & chase(z1,z2)))\n",
      "    s2-r0: -exists z1.(boxer(z1) & walk(z1))\n",
      "\n",
      "Inconsistent discourse: d5 ['s0-r1', 's1-r0', 's2-r1']:\n",
      "    s0-r1: exists z1.(boxerdog(z1) & walk(z1))\n",
      "    s1-r0: all z1.(boxer(z1) -> exists z2.(girl(z2) & chase(z1,z2)))\n",
      "    s2-r1: -exists z1.(boxerdog(z1) & walk(z1))\n",
      "\n",
      "Consistent discourse: d6 ['s0-r1', 's1-r1', 's2-r0']:\n",
      "    s0-r1: exists z1.(boxerdog(z1) & walk(z1))\n",
      "    s1-r1: all z1.(boxerdog(z1) -> exists z2.(girl(z2) & chase(z1,z2)))\n",
      "    s2-r0: -exists z1.(boxer(z1) & walk(z1))\n",
      "\n",
      "Inconsistent discourse: d7 ['s0-r1', 's1-r1', 's2-r1']:\n",
      "    s0-r1: exists z1.(boxerdog(z1) & walk(z1))\n",
      "    s1-r1: all z1.(boxerdog(z1) -> exists z2.(girl(z2) & chase(z1,z2)))\n",
      "    s2-r1: -exists z1.(boxerdog(z1) & walk(z1))\n",
      "\n",
      "Current sentences are \n",
      "s0: a boxer walks\n",
      "s1: every boxer chases a girl\n"
     ]
    }
   ],
   "source": [
    "dt = nltk.DiscourseTester(['a boxer walks', 'every boxer chases a girl'])\n",
    "dt.readings()\n",
    "dt.add_sentence('No boxer walks', consistchk=True)\n",
    "dt.retract_sentence('No boxer walks', verbose=True)"
   ]
  },
  {
   "cell_type": "markdown",
   "metadata": {},
   "source": [
    "## Reference\n",
    "- Hodges 1977 wow\n",
    "- Gamut 1991\n",
    "- Kamp Reyle 1993\n",
    "- Carpenter 1997\n",
    "- Chierchia McConell-Ginet 1990 logic semantics\n",
    "- Heim Kratzer 1998\n",
    "- Larson Segal 1995\n",
    "- Lappin 1996, van Benthem ter Meulen 1997: time, gq\n",
    "- Blackburn Bos 2005 computing semantics"
   ]
  }
 ],
 "metadata": {
  "kernelspec": {
   "display_name": "Python 3",
   "language": "python",
   "name": "python3"
  },
  "language_info": {
   "codemirror_mode": {
    "name": "ipython",
    "version": 3
   },
   "file_extension": ".py",
   "mimetype": "text/x-python",
   "name": "python",
   "nbconvert_exporter": "python",
   "pygments_lexer": "ipython3",
   "version": "3.6.7"
  }
 },
 "nbformat": 4,
 "nbformat_minor": 2
}
